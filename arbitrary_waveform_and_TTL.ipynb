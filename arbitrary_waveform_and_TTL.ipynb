{
 "cells": [
  {
   "cell_type": "code",
   "execution_count": 1,
   "metadata": {},
   "outputs": [
    {
     "data": {
      "application/javascript": [
       "\n",
       "try {\n",
       "require(['notebook/js/codecell'], function(codecell) {\n",
       "  codecell.CodeCell.options_default.highlight_modes[\n",
       "      'magic_text/x-csrc'] = {'reg':[/^%%pybind11/]};\n",
       "  Jupyter.notebook.events.one('kernel_ready.Kernel', function(){\n",
       "      Jupyter.notebook.get_cells().map(function(cell){\n",
       "          if (cell.cell_type == 'code'){ cell.auto_highlight(); } }) ;\n",
       "  });\n",
       "});\n",
       "} catch (e) {};\n"
      ]
     },
     "metadata": {},
     "output_type": "display_data"
    },
    {
     "name": "stdout",
     "output_type": "stream",
     "text": [
      "Populating the interactive namespace from numpy and matplotlib\n"
     ]
    }
   ],
   "source": [
    "# Import the QICK drivers and auxiliary libraries\n",
    "from qick import *\n",
    "%pylab inline"
   ]
  },
  {
   "cell_type": "code",
   "execution_count": 2,
   "metadata": {},
   "outputs": [
    {
     "name": "stdout",
     "output_type": "stream",
     "text": [
      "resetting clocks: 204.8\n",
      "\n",
      "QICK configuration:\n",
      "\n",
      "\tBoard: ZCU111\n",
      "\n",
      "\tGlobal clocks (MHz): tProcessor 384.000, RF reference 204.800\n",
      "\n",
      "\t7 signal generator channels:\n",
      "\t0:\taxis_signal_gen_v4 - tProc output 1, switch ch 0, maxlen 65536\n",
      "\t\tDAC tile 0, ch 0, 32-bit DDS, fabric=384.000 MHz, fs=6144.000 MHz\n",
      "\t1:\taxis_signal_gen_v4 - tProc output 2, switch ch 1, maxlen 65536\n",
      "\t\tDAC tile 0, ch 1, 32-bit DDS, fabric=384.000 MHz, fs=6144.000 MHz\n",
      "\t2:\taxis_signal_gen_v4 - tProc output 3, switch ch 2, maxlen 65536\n",
      "\t\tDAC tile 0, ch 2, 32-bit DDS, fabric=384.000 MHz, fs=6144.000 MHz\n",
      "\t3:\taxis_signal_gen_v4 - tProc output 4, switch ch 3, maxlen 65536\n",
      "\t\tDAC tile 1, ch 0, 32-bit DDS, fabric=384.000 MHz, fs=6144.000 MHz\n",
      "\t4:\taxis_signal_gen_v4 - tProc output 5, switch ch 4, maxlen 65536\n",
      "\t\tDAC tile 1, ch 1, 32-bit DDS, fabric=384.000 MHz, fs=6144.000 MHz\n",
      "\t5:\taxis_signal_gen_v4 - tProc output 6, switch ch 5, maxlen 65536\n",
      "\t\tDAC tile 1, ch 2, 32-bit DDS, fabric=384.000 MHz, fs=6144.000 MHz\n",
      "\t6:\taxis_signal_gen_v4 - tProc output 7, switch ch 6, maxlen 65536\n",
      "\t\tDAC tile 1, ch 3, 32-bit DDS, fabric=384.000 MHz, fs=6144.000 MHz\n",
      "\n",
      "\t2 readout channels:\n",
      "\t0:\tADC tile 0, ch 0, 32-bit DDS, fabric=384.000 MHz, fs=3072.000 MHz\n",
      "\t\tmaxlen 16384 (avg) 1024 (decimated), trigger 14, tProc input 0\n",
      "\t1:\tADC tile 0, ch 1, 32-bit DDS, fabric=384.000 MHz, fs=3072.000 MHz\n",
      "\t\tmaxlen 16384 (avg) 1024 (decimated), trigger 15, tProc input 1\n",
      "\n",
      "\ttProc: 8192 words program memory, 4096 words data memory\n"
     ]
    }
   ],
   "source": [
    "# Load bitstream with custom overlay\n",
    "soc = QickSoc()\n",
    "# Since we're running locally on the QICK, we don't need a separate QickConfig object.\n",
    "# If running remotely, you could generate a QickConfig from the QickSoc:\n",
    "#     soccfg = QickConfig(soc.get_cfg())\n",
    "# or save the config to file, and load it later:\n",
    "#     with open(\"qick_config.json\", \"w\") as f:\n",
    "#         f.write(soc.dump_cfg())\n",
    "#     soccfg = QickConfig(\"qick_config.json\")\n",
    "soccfg = soc\n",
    "print(soccfg)"
   ]
  },
  {
   "cell_type": "markdown",
   "metadata": {},
   "source": [
    "### Hardware Configuration\n",
    "\n",
    "generator channel 6   : DAC 229 CH3  <-> Readout channel 0 : ADC 224 CH0"
   ]
  },
  {
   "cell_type": "code",
   "execution_count": 3,
   "metadata": {},
   "outputs": [],
   "source": [
    "def find_start_and_stop(sample_array):\n",
    "    start_end_list = [0]\n",
    "    initial = sample_array[0]\n",
    "    flag = 0\n",
    "    if initial > 0:\n",
    "        flag = 1        \n",
    "    for i in range(len(sample_array)):\n",
    "        if flag == 1 and sample_array[i] == 0:\n",
    "            start_end_list.append(i)\n",
    "            flag = 0\n",
    "        elif flag == 0 and sample_array[i] > 0:\n",
    "            start_end_list.append(i)\n",
    "            flag = 1\n",
    "    start_end_list.append(len(sample_array))\n",
    "    \n",
    "    return_list = []\n",
    "    for i in range(len(start_end_list)-1):\n",
    "        return_list.append(sample_array[start_end_list[i]:start_end_list[i+1]])\n",
    "    return return_list\n",
    "            "
   ]
  },
  {
   "cell_type": "code",
   "execution_count": 4,
   "metadata": {},
   "outputs": [],
   "source": [
    "def array_splitter(array_list):\n",
    "    start_end_list = [0]\n",
    "    flag_list = []\n",
    "    for i in range(len(array_list)):\n",
    "        if array_list[i][0] > 0:\n",
    "            flag_list.append(1)\n",
    "        elif array_list[i][0] == 0:\n",
    "            flag_list.append(0)\n",
    "    \n",
    "    \n",
    "    for i in range(len(array_list[0])):\n",
    "        for j in range(len(array_list)):\n",
    "            if flag_list[j] == 1 and array_list[j][i] ==0:\n",
    "                start_end_list.append(i)\n",
    "                flag_list[j] = 0\n",
    "                break\n",
    "            elif flag_list[j] == 0 and array_list[j][i] > 0:\n",
    "                start_end_list.append(i)\n",
    "                flag_list[j] = 1\n",
    "                break\n",
    "    start_end_list.append(len(array_list[0]))\n",
    "    #print(start_end_list)\n",
    "\n",
    "    #start_end_list = list(set(start_end_list))\n",
    "    print(start_end_list)\n",
    "    return_list = []\n",
    "    for i in range(len(start_end_list)-1):\n",
    "        return_list.append(array_list[:,start_end_list[i]:start_end_list[i+1]].tolist())\n",
    "    \n",
    "    return return_list\n",
    "        "
   ]
  },
  {
   "cell_type": "code",
   "execution_count": 5,
   "metadata": {},
   "outputs": [],
   "source": [
    "import pandas as pd\n",
    "\n",
    "df = pd.read_excel('sample_sequence.xls', header = None)\n"
   ]
  },
  {
   "cell_type": "code",
   "execution_count": 6,
   "metadata": {},
   "outputs": [
    {
     "name": "stdout",
     "output_type": "stream",
     "text": [
      "[0, 10000, 11362, 11862, 13162, 21362, 22565, 23065, 24365, 32565, 33360]\n"
     ]
    }
   ],
   "source": [
    "NV_I = list(np.array(np.abs(df[0]).astype(int)))\n",
    "NV_Q = list(np.array(np.abs(df[1]).astype(int)))\n",
    "NV_Switch = list(np.array(np.abs(df[2]).astype(int)))\n",
    "DAQ = list((np.array(df[3]).astype(int)))\n",
    "Laser = list((np.array(df[4]).astype(int)))\n",
    "\n",
    "array_list = np.array([DAQ, Laser])\n",
    "#array_list = np.array([NV_Q])\n",
    "\n",
    "sequence_list = array_splitter( array_list ) \n",
    "\n",
    "#plt.plot(sequence_list[6][0])\n",
    "#plt.plot(sequence_list[6][1])\n",
    "#len(sequence_list[0])\n",
    "#sequence_list"
   ]
  },
  {
   "cell_type": "code",
   "execution_count": 7,
   "metadata": {},
   "outputs": [
    {
     "data": {
      "text/plain": [
       "<matplotlib.legend.Legend at 0x7f59f11ef0>"
      ]
     },
     "execution_count": 7,
     "metadata": {},
     "output_type": "execute_result"
    },
    {
     "data": {
      "image/png": "[encoded data removed]",
      "text/plain": [
       "<matplotlib.figure.Figure at 0x7f60649e80>"
      ]
     },
     "metadata": {},
     "output_type": "display_data"
    }
   ],
   "source": [
    "figure(figsize=(8, 6), dpi=80)\n",
    "#plt.plot(  NV_I, label = \"NV_I\" ) \n",
    "#plt.plot( NV_Q, label = \"NV_Q\" ) \n",
    "#plt.plot(  NV_Switch, label = \"NV_Switch\" ) \n",
    "plt.plot(  list(np.array(df[3])), label = \"DAQ\" ) \n",
    "plt.plot(  list(np.array(df[4])), label = \"Laser\" ) \n",
    "len(np.array(df[4]))\n",
    "plt.legend()"
   ]
  },
  {
   "cell_type": "code",
   "execution_count": 183,
   "metadata": {},
   "outputs": [],
   "source": [
    "class LoopbackProgram(AveragerProgram):\n",
    "        \n",
    "    def initialize(self):\n",
    "        cfg=self.cfg   \n",
    "        res_ch = cfg[\"res_ch\"]\n",
    "\n",
    "        # set the nyquist zone\n",
    "        self.declare_gen(ch=cfg[\"res_ch\"], nqz=1)\n",
    "        \n",
    "        # configure the readout lengths and downconversion frequencies (ensuring it is an available DAC frequency)\n",
    "        for ch in cfg[\"ro_chs\"]:\n",
    "            self.declare_readout(ch=ch, length=self.cfg[\"readout_length\"],\n",
    "                                 freq=self.cfg[\"pulse_freq\"], gen_ch=cfg[\"res_ch\"])\n",
    "\n",
    "        # convert frequency to DAC frequency (ensuring it is an available ADC frequency)\n",
    "        freq = self.freq2reg(cfg[\"pulse_freq\"],gen_ch=res_ch, ro_ch=cfg[\"ro_chs\"][0])\n",
    "        phase = self.deg2reg(cfg[\"res_phase\"], gen_ch=res_ch)\n",
    "        phase_2 = self.deg2reg(cfg[\"res_phase_2\"], gen_ch=res_ch)\n",
    "        gain = cfg[\"pulse_gain\"]\n",
    "\n",
    "        style=self.cfg[\"pulse_style\"]\n",
    "\n",
    "        self.set_pulse_registers(ch=res_ch, style=style, freq=freq, phase=phase, gain=gain,\n",
    "                                     length=cfg[\"length\"])\n",
    "        \n",
    "        \n",
    "        \n",
    "        self.synci(200)  # give processor some time to configure pulses\n",
    "    \n",
    "    def body(self):\n",
    "        self.pulse(ch=self.cfg[\"res_ch\"], t = 0)\n",
    "        cfg=self.cfg   \n",
    "\n",
    "        res_ch = cfg[\"res_ch\"]\n",
    "        for ch in cfg[\"ro_chs\"]:\n",
    "            self.declare_readout(ch=ch, length=self.cfg[\"readout_length\"],\n",
    "                                 freq=self.cfg[\"pulse_freq\"], gen_ch=cfg[\"res_ch\"])\n",
    "\n",
    "        # convert frequency to DAC frequency (ensuring it is an available ADC frequency)\n",
    "        freq = self.freq2reg(cfg[\"pulse_freq\"],gen_ch=res_ch, ro_ch=cfg[\"ro_chs\"][0])\n",
    "        phase = self.deg2reg(cfg[\"res_phase\"], gen_ch=res_ch)\n",
    "        phase_2 = self.deg2reg(cfg[\"res_phase_2\"], gen_ch=res_ch)\n",
    "        gain = cfg[\"pulse_gain\"]\n",
    "\n",
    "        style=self.cfg[\"pulse_style\"]\n",
    "\n",
    "        self.set_pulse_registers(ch=res_ch, style=style, freq=freq, phase=phase_2, gain=gain,\n",
    "                                     length=cfg[\"length\"])\n",
    "        \n",
    "        self.pulse(ch=self.cfg[\"res_ch\"], t = 100)\n",
    "        \n",
    "        cumulative_seq_length = 0 #nanoseconds\n",
    "        trig_output = self.soccfg['tprocs'][0]['trig_output'] #usually just 0\n",
    "        for sequence in sequence_list:\n",
    "            initial_pin = 0\n",
    "            pins_list = []\n",
    "            for pin in sequence:\n",
    "                if pin[0] == 1:\n",
    "                    pins_list.append(initial_pin)\n",
    "                initial_pin += 1\n",
    "            if len(pins_list) > 0:\n",
    "                out = 0\n",
    "                for pin in pins_list:\n",
    "                    out |= (1 << pin)\n",
    "                t_start = round(cumulative_seq_length/2.6)\n",
    "                t_end = t_start + round(len(sequence[0])/2.6)\n",
    "                self.regwi(0, 31, out, f'out = 0b{out:>016b}')\n",
    "                self.seti(trig_output, 0, 31, t_start, f'ch =0 out = ${31} @t = {t_start}')\n",
    "                \n",
    "            else:\n",
    "                self.seti(trig_output, 0, 0, t_end, f'ch =0 out = 0 @t = {t_start}')\n",
    "            cumulative_seq_length += len(sequence[0]) #nanoseconds\n",
    "\n",
    "\n",
    "        self.wait_all()\n",
    "        self.sync_all(self.us2cycles(self.cfg[\"relax_delay\"]))"
   ]
  },
  {
   "cell_type": "code",
   "execution_count": 185,
   "metadata": {},
   "outputs": [
    {
     "data": {
      "application/vnd.jupyter.widget-view+json": {
       "model_id": "e319a8e755f247b48b0eba7dbb679678",
       "version_major": 2,
       "version_minor": 0
      },
      "text/plain": [
       "  0%|          | 0/100 [00:00<?, ?it/s]"
      ]
     },
     "metadata": {},
     "output_type": "display_data"
    }
   ],
   "source": [
    "config={\"res_ch\":6, # --Fixed\n",
    "        \"ro_chs\":[0], # --Fixed\n",
    "        \"reps\":1, # --Fixed\n",
    "        \"relax_delay\":1.0, # --us\n",
    "        \"res_phase\":0, # --degrees\n",
    "        \"res_phase_2\":0, # --degrees\n",
    "        \n",
    "        \"pulse_style\": \"const\", # --Fixed\n",
    "        \n",
    "        \"length\":100, # [Clock ticks]\n",
    "        # Try varying length from 10-100 clock ticks\n",
    "        \n",
    "        \"readout_length\":100, # [Clock ticks]\n",
    "        # Try varying readout_length from 50-1000 clock ticks\n",
    "\n",
    "        \"pulse_gain\":30000, # [DAC units]\n",
    "        # Try varying pulse_gain from 500 to 30000 DAC units\n",
    "\n",
    "        \"pulse_freq\": 200, # [MHz]\n",
    "        # In this program the signal is up and downconverted digitally so you won't see any frequency\n",
    "        # components in the I/Q traces below. But since the signal gain depends on frequency, \n",
    "        # if you lower pulse_freq you will see an increased gain.\n",
    "\n",
    "        \"adc_trig_offset\": 150, # [Clock ticks]\n",
    "        # Try varying adc_trig_offset from 100 to 220 clock ticks\n",
    "\n",
    "        \"soft_avgs\":100\n",
    "        # Try varying soft_avgs from 1 to 200 averages\n",
    "\n",
    "       }\n",
    "\n",
    "###################\n",
    "# Try it yourself !\n",
    "###################\n",
    "\n",
    "prog =LoopbackProgram(soccfg, config)\n",
    "iq_list = prog.acquire_decimated(soc, load_pulses=True, progress=True, debug=False)"
   ]
  },
  {
   "cell_type": "code",
   "execution_count": 187,
   "metadata": {},
   "outputs": [],
   "source": [
    "class LoopbackProgram(AveragerProgram):\n",
    "    def initialize(self):\n",
    "        cfg=self.cfg   \n",
    "        res_ch = cfg[\"res_ch\"]\n",
    "\n",
    "        # set the nyquist zone\n",
    "        self.declare_gen(ch=cfg[\"res_ch\"], nqz=1)\n",
    "        \n",
    "        # configure the readout lengths and downconversion frequencies (ensuring it is an available DAC frequency)\n",
    "        for ch in cfg[\"ro_chs\"]:\n",
    "            self.declare_readout(ch=ch, length=self.cfg[\"readout_length\"],\n",
    "                                 freq=self.cfg[\"pulse_freq\"], gen_ch=cfg[\"res_ch\"])\n",
    "\n",
    "        # convert frequency to DAC frequency (ensuring it is an available ADC frequency)\n",
    "        freq = self.freq2reg(cfg[\"pulse_freq\"],gen_ch=res_ch, ro_ch=cfg[\"ro_chs\"][0])\n",
    "        phase = self.deg2reg(cfg[\"res_phase\"], gen_ch=res_ch)\n",
    "        gain = cfg[\"pulse_gain\"]\n",
    "        self.default_pulse_registers(ch=res_ch, freq=freq, phase=phase, gain=gain)\n",
    "\n",
    "        style=self.cfg[\"pulse_style\"]\n",
    "        I_data = self.cfg[\"idata\"]\n",
    "\n",
    "        self.add_pulse(ch = res_ch, name =\"measure\", idata = I_data)\n",
    "        self.set_pulse_registers(ch=res_ch, style=style, waveform=\"measure\", outsel = \"input\")\n",
    "        \n",
    "        self.synci(200)  # give processor some time to configure pulses\n",
    "    \n",
    "    def body(self):\n",
    "        self.pulse(ch=self.cfg[\"res_ch\"])\n",
    "        self.wait_all()\n",
    "        self.sync_all(self.us2cycles(self.cfg[\"relax_delay\"]))"
   ]
  },
  {
   "cell_type": "code",
   "execution_count": 143,
   "metadata": {},
   "outputs": [
    {
     "data": {
      "application/vnd.jupyter.widget-view+json": {
       "model_id": "bf6a001494254c4f908a00f1c759f294",
       "version_major": 2,
       "version_minor": 0
      },
      "text/plain": [
       "  0%|          | 0/100 [00:00<?, ?it/s]"
      ]
     },
     "metadata": {},
     "output_type": "display_data"
    }
   ],
   "source": [
    "\n",
    "si=25*16\n",
    "maxv=30000\n",
    "length = 1600\n",
    "mu = length/2 - 0.5\n",
    "x = np.arange(0, length)\n",
    "I = -maxv * np.exp(-(x-mu)**2/si**2)\n",
    "config={\"res_ch\":6, # --Fixed\n",
    "        \"ro_chs\":[0], # --Fixed\n",
    "        \"reps\":1, # --Fixed\n",
    "        \"relax_delay\":1.0, # --us\n",
    "        \"res_phase\":0, # --degrees\n",
    "        \"pulse_style\": \"arb\", # --Fixed\n",
    "\n",
    "        \"readout_length\":300, # [Clock ticks]\n",
    "        # Try varying readout_length from 50-1000 clock ticks\n",
    "\n",
    "        \"pulse_gain\":30000, # [DAC units]\n",
    "        # Try varying pulse_gain from 500 to 30000 DAC units\n",
    "\n",
    "        \"pulse_freq\": 100, # [MHz]\n",
    "        # In this program the signal is up and downconverted digitally so you won't see any frequency\n",
    "        # components in the I/Q traces below. But since the signal gain depends on frequency, \n",
    "        # if you lower pulse_freq you will see an increased gain.\n",
    "\n",
    "        \"adc_trig_offset\": 100, # [Clock ticks]\n",
    "        # Try varying adc_trig_offset from 100 to 220 clock ticks\n",
    "\n",
    "        \"soft_avgs\":100,\n",
    "        # Try varying soft_avgs from 1 to 200 averages\n",
    "        \"idata\": I\n",
    "       }\n",
    "\n",
    "###################\n",
    "# Try it yourself !\n",
    "###################\n",
    "\n",
    "prog =LoopbackProgram(soccfg, config)\n",
    "iq_list = prog.acquire_decimated(soc, load_pulses=True, progress=True, debug=False)\n"
   ]
  },
  {
   "cell_type": "code",
   "execution_count": 145,
   "metadata": {},
   "outputs": [
    {
     "data": {
      "application/vnd.jupyter.widget-view+json": {
       "model_id": "e20d294ff3074304b556971a6cd29e90",
       "version_major": 2,
       "version_minor": 0
      },
      "text/plain": [
       "  0%|          | 0/100 [00:00<?, ?it/s]"
      ]
     },
     "metadata": {},
     "output_type": "display_data"
    }
   ],
   "source": [
    "x = np.arange(0, 1600)\n",
    "first_half = -(30000/(1600**2))*(x**2)\n",
    "second_half = np.flip(first_half)\n",
    "combined = np.concatenate( (first_half, second_half) )\n",
    "I = combined\n",
    "n = 5\n",
    "for i in range(n):\n",
    "    I = np.concatenate( (I, combined) )\n",
    "config={\"res_ch\":6, # --Fixed \n",
    "        \"ro_chs\":[0], # --Fixed\n",
    "        \"reps\":1, # --Fixed\n",
    "        \"relax_delay\":1.0, # --us\n",
    "        \"res_phase\":0, # --degrees\n",
    "        \"pulse_style\": \"arb\", # --Fixed\n",
    "\n",
    "        \"readout_length\":300, # [Clock ticks]\n",
    "        # Try varying readout_length from 50-1000 clock ticks\n",
    "\n",
    "        \"pulse_gain\":30000, # [DAC units]\n",
    "        # Try varying pulse_gain from 500 to 30000 DAC units\n",
    "\n",
    "        \"pulse_freq\": 100, # [MHz]\n",
    "        # In this program the signal is up and downconverted digitally so you won't see any frequency\n",
    "        # components in the I/Q traces below. But since the signal gain depends on frequency, \n",
    "        # if you lower pulse_freq you will see an increased gain.\n",
    "\n",
    "        \"adc_trig_offset\": 100, # [Clock ticks]\n",
    "        # Try varying adc_trig_offset from 100 to 220 clock ticks\n",
    "\n",
    "        \"soft_avgs\":100,\n",
    "        # Try varying soft_avgs from 1 to 200 averages\n",
    "        \"idata\": I\n",
    "       }\n",
    "\n",
    "###################\n",
    "# Try it yourself !\n",
    "###################\n",
    "\n",
    "prog =LoopbackProgram(soccfg, config)\n",
    "iq_list = prog.acquire_decimated(soc, load_pulses=True, progress=True, debug=False)\n"
   ]
  },
  {
   "cell_type": "code",
   "execution_count": 180,
   "metadata": {},
   "outputs": [
    {
     "data": {
      "application/vnd.jupyter.widget-view+json": {
       "model_id": "c056ec6970ec448c8b09f9ed4722649a",
       "version_major": 2,
       "version_minor": 0
      },
      "text/plain": [
       "  0%|          | 0/100 [00:00<?, ?it/s]"
      ]
     },
     "metadata": {},
     "output_type": "display_data"
    }
   ],
   "source": [
    "length = 160\n",
    "x = np.arange(0, length)\n",
    "def f(z):\n",
    "    return z**0.5\n",
    "first_half = -(15000/(f(length)))*(f(x))\n",
    "second_half = np.flip(first_half)\n",
    "combined = np.concatenate( (first_half, second_half) )\n",
    "I = combined\n",
    "n = 5\n",
    "for i in range(n):\n",
    "    I = np.concatenate( (I, combined) )\n",
    "config={\"res_ch\":6, # --Fixed \n",
    "        \"ro_chs\":[0], # --Fixed\n",
    "        \"reps\":1, # --Fixed\n",
    "        \"relax_delay\":1.0, # --us\n",
    "        \"res_phase\":0, # --degrees\n",
    "        \"pulse_style\": \"arb\", # --Fixed\n",
    "\n",
    "        \"readout_length\":300, # [Clock ticks]\n",
    "        # Try varying readout_length from 50-1000 clock ticks\n",
    "\n",
    "        \"pulse_gain\":30000, # [DAC units]\n",
    "        # Try varying pulse_gain from 500 to 30000 DAC units\n",
    "\n",
    "        \"pulse_freq\": 100, # [MHz]\n",
    "        # In this program the signal is up and downconverted digitally so you won't see any frequency\n",
    "        # components in the I/Q traces below. But since the signal gain depends on frequency, \n",
    "        # if you lower pulse_freq you will see an increased gain.\n",
    "\n",
    "        \"adc_trig_offset\": 100, # [Clock ticks]\n",
    "        # Try varying adc_trig_offset from 100 to 220 clock ticks\n",
    "\n",
    "        \"soft_avgs\":100,\n",
    "        # Try varying soft_avgs from 1 to 200 averages\n",
    "        \"idata\": I\n",
    "       }\n",
    "\n",
    "###################\n",
    "# Try it yourself !\n",
    "###################\n",
    "\n",
    "prog =LoopbackProgram(soccfg, config)\n",
    "iq_list = prog.acquire_decimated(soc, load_pulses=True, progress=True, debug=False)"
   ]
  },
  {
   "cell_type": "code",
   "execution_count": 211,
   "metadata": {},
   "outputs": [
    {
     "data": {
      "application/vnd.jupyter.widget-view+json": {
       "model_id": "9a491199d7a542dc82ad096e7fb9d587",
       "version_major": 2,
       "version_minor": 0
      },
      "text/plain": [
       "  0%|          | 0/100 [00:00<?, ?it/s]"
      ]
     },
     "metadata": {},
     "output_type": "display_data"
    }
   ],
   "source": [
    "length = 1600\n",
    "x = np.arange(0, length)\n",
    "def f(z):\n",
    "    return np.sin((100*(10**6)/(2.6*10**(-9)) )*z)\n",
    "first_half = -(18000)*(f(x) + f(2*x))\n",
    "\n",
    "I = first_half\n",
    "\n",
    "config={\"res_ch\":6, # --Fixed \n",
    "        \"ro_chs\":[0], # --Fixed\n",
    "        \"reps\":1, # --Fixed\n",
    "        \"relax_delay\":1.0, # --us\n",
    "        \"res_phase\":0, # --degrees\n",
    "        \"pulse_style\": \"arb\", # --Fixed\n",
    "\n",
    "        \"readout_length\":300, # [Clock ticks]\n",
    "        # Try varying readout_length from 50-1000 clock ticks\n",
    "\n",
    "        \"pulse_gain\":30000, # [DAC units]\n",
    "        # Try varying pulse_gain from 500 to 30000 DAC units\n",
    "\n",
    "        \"pulse_freq\": 100, # [MHz]\n",
    "        # In this program the signal is up and downconverted digitally so you won't see any frequency\n",
    "        # components in the I/Q traces below. But since the signal gain depends on frequency, \n",
    "        # if you lower pulse_freq you will see an increased gain.\n",
    "\n",
    "        \"adc_trig_offset\": 100, # [Clock ticks]\n",
    "        # Try varying adc_trig_offset from 100 to 220 clock ticks\n",
    "\n",
    "        \"soft_avgs\":100,\n",
    "        # Try varying soft_avgs from 1 to 200 averages\n",
    "        \"idata\": I\n",
    "       }\n",
    "\n",
    "###################\n",
    "# Try it yourself !\n",
    "###################\n",
    "\n",
    "prog =LoopbackProgram(soccfg, config)\n",
    "iq_list = prog.acquire_decimated(soc, load_pulses=True, progress=True, debug=False)"
   ]
  },
  {
   "cell_type": "code",
   "execution_count": null,
   "metadata": {},
   "outputs": [],
   "source": []
  }
 ],
 "metadata": {
  "kernelspec": {
   "display_name": "Python 3",
   "language": "python",
   "name": "python3"
  },
  "language_info": {
   "codemirror_mode": {
    "name": "ipython",
    "version": 3
   },
   "file_extension": ".py",
   "mimetype": "text/x-python",
   "name": "python",
   "nbconvert_exporter": "python",
   "pygments_lexer": "ipython3",
   "version": "3.6.5"
  }
 },
 "nbformat": 4,
 "nbformat_minor": 2
}
